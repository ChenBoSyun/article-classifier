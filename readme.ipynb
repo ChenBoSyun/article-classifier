{
 "cells": [
  {
   "cell_type": "markdown",
   "metadata": {},
   "source": [
    "# pixnet文章分類"
   ]
  },
  {
   "cell_type": "markdown",
   "metadata": {},
   "source": [
    "---------------------------------"
   ]
  },
  {
   "cell_type": "markdown",
   "metadata": {},
   "source": [
    "## indtroduction"
   ]
  },
  {
   "cell_type": "markdown",
   "metadata": {},
   "source": [
    "<font size=3>\n",
    "當使用者撰寫完blog後，若PIXNET能自動推薦使用者合適的分類，幫助使用者決定文章類別，能提供更方便的服務。尤其是觀察到PIXNET有一項不分類別的種類，該類別裡的文章可能是使用者不確定文章種類，或是使用者懶得做分類。\n",
    "</font>\n"
   ]
  },
  {
   "cell_type": "markdown",
   "metadata": {},
   "source": [
    "## usage"
   ]
  },
  {
   "cell_type": "markdown",
   "metadata": {},
   "source": [
    "<font size=3>\n",
    "對訓練資料集做資料前處理，輸出token_list.pickle\n",
    "</font>\n",
    "<br>\n",
    "``python muti_text_preprocess.py``\n",
    "<br>\n",
    "<font size=3>\n",
    "將訓練資料集的文字建成index，輸出index.pickle\n",
    "</font>\n",
    "<br>\n",
    "``python build_index.py``\n",
    "<br>\n",
    "<font size=3>\n",
    "訓練分類器模型，將模型存起來，命名為classifier.h5\n",
    "</font>\n",
    "<br>\n",
    "``python model.py``\n",
    "<br>\n",
    "<font size=3>\n",
    "輸入一筆新的文章，print預測文章分類結果\n",
    "</font>\n",
    "<br>\n",
    "``python main.py``"
   ]
  }
 ],
 "metadata": {
  "kernelspec": {
   "display_name": "Python 3",
   "language": "python",
   "name": "python3"
  },
  "language_info": {
   "codemirror_mode": {
    "name": "ipython",
    "version": 3
   },
   "file_extension": ".py",
   "mimetype": "text/x-python",
   "name": "python",
   "nbconvert_exporter": "python",
   "pygments_lexer": "ipython3",
   "version": "3.5.2"
  }
 },
 "nbformat": 4,
 "nbformat_minor": 2
}
